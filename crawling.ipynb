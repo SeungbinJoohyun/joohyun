{
 "cells": [
  {
   "cell_type": "code",
   "execution_count": null,
   "id": "952cb146",
   "metadata": {},
   "outputs": [],
   "source": [
    "from bs4 import BeautifulSoup\n",
    "import requests"
   ]
  },
  {
   "cell_type": "code",
   "execution_count": 9,
   "id": "fc2de7a7",
   "metadata": {},
   "outputs": [],
   "source": [
    "url = \"https://sports.daum.net/schedule/kbo\""
   ]
  },
  {
   "cell_type": "code",
   "execution_count": 5,
   "id": "1d01ecd6",
   "metadata": {},
   "outputs": [],
   "source": [
    "req = requests.get(url, headers={'User-agent': 'Mozilla/5.0'})\n",
    "soup = BeautifulSoup(req.text, 'html.parser')"
   ]
  },
  {
   "cell_type": "code",
   "execution_count": 10,
   "id": "8b0a3806",
   "metadata": {},
   "outputs": [],
   "source": [
    "value_a = soup.find_all(\"span\", class_=\"txt_team\")"
   ]
  },
  {
   "cell_type": "code",
   "execution_count": null,
   "id": "b62f51a4",
   "metadata": {},
   "outputs": [
    {
     "name": "stdout",
     "output_type": "stream",
     "text": [
      "해당 클래스를 가진 요소를 찾을 수 없다.\n"
     ]
    }
   ],
   "source": [
    "if value_a:\n",
    "  print(\"날짜:\", value_a.text)\n",
    "else:\n",
    "  print(\"해당 클래스를 가진 요소를 찾을 수 없다\")"
   ]
  },
  {
   "cell_type": "code",
   "execution_count": null,
   "id": "cacabb5a",
   "metadata": {},
   "outputs": [],
   "source": []
  }
 ],
 "metadata": {
  "kernelspec": {
   "display_name": "base",
   "language": "python",
   "name": "python3"
  },
  "language_info": {
   "codemirror_mode": {
    "name": "ipython",
    "version": 3
   },
   "file_extension": ".py",
   "mimetype": "text/x-python",
   "name": "python",
   "nbconvert_exporter": "python",
   "pygments_lexer": "ipython3",
   "version": "3.12.4"
  }
 },
 "nbformat": 4,
 "nbformat_minor": 5
}
