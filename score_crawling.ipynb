{
 "cells": [
  {
   "cell_type": "code",
   "execution_count": 25,
   "id": "b0d0a13c",
   "metadata": {},
   "outputs": [],
   "source": [
    "import requests\n",
    "import pandas as pd\n",
    "from bs4 import BeautifulSoup\n",
    "\n",
    "s_no = 20250054\n",
    "url = f\"https://statiz.sporki.com/schedule/?m=preview&s_no={s_no}\"\n",
    "headers = {\n",
    "  'User-Agent': 'Mozilla/5.0 (Windows NT 10.0; Win64; x64) AppleWebKit/537.36 (KHTML, like Gecko) Chrome/91.0.4472.124 Safari/537.36'\n",
    "}"
   ]
  },
  {
   "cell_type": "code",
   "execution_count": 26,
   "id": "391af75b",
   "metadata": {},
   "outputs": [],
   "source": [
    "def crawl_score_values():\n",
    "  try:\n",
    "    response = requests.get(url, headers=headers)\n",
    "    response.raise_for_status()\n",
    "\n",
    "    soup = BeautifulSoup(response.content, 'html.parser')\n",
    "\n",
    "    div_nums = soup.select('div.num')\n",
    "\n",
    "    if not div_nums:\n",
    "      print(\"div.num을 찾을 수 없음\")\n",
    "      return []\n",
    "    \n",
    "    span_values = []\n",
    "    \n",
    "    for i, div_num in enumerate(div_nums):\n",
    "            # 해당 div 안의 모든 span 태그 찾기\n",
    "      spans = div_num.find_all('span')\n",
    "            \n",
    "      if spans:\n",
    "        for j, span in enumerate(spans):\n",
    "          text = span.get_text(strip=True)\n",
    "          if text:  # 빈 텍스트가 아닌 경우만 추가\n",
    "            span_values.append({\n",
    "              'div_index': i + 1,\n",
    "              'span_index': j + 1,\n",
    "              'text': text\n",
    "          })\n",
    "          else:\n",
    "            print(f\"div.num[{i+1}] 안에 span 태그가 없습니다.\")\n",
    "        \n",
    "    return span_values\n",
    "  \n",
    "\n",
    "  except requests.RequestException as e:\n",
    "    print(f\"웹페이지 요청 중 오류 발생: {e}\")\n",
    "    return []\n",
    "  except Exception as e:\n",
    "    print(f\"크롤링 중 오류 발생: {e}\")\n",
    "    return []\n"
   ]
  },
  {
   "cell_type": "code",
   "execution_count": 27,
   "id": "7a4a3cb4",
   "metadata": {},
   "outputs": [],
   "source": [
    "def extract_numeric_values(span_data):\n",
    "    \"\"\"\n",
    "    크롤링 결과에서 숫자 값만 추출하는 함수\n",
    "    \n",
    "    Args:\n",
    "        span_data: crawl_span_values() 함수의 반환값\n",
    "    \n",
    "    Returns:\n",
    "        list: 숫자로 변환 가능한 값들의 리스트\n",
    "    \"\"\"\n",
    "    numeric_values = []\n",
    "    \n",
    "    for item in span_data:\n",
    "        text = item['text']\n",
    "        try:\n",
    "            # 쉼표 제거 후 숫자로 변환 시도\n",
    "            num_value = float(text.replace(',', ''))\n",
    "            numeric_values.append({\n",
    "                'div_index': item['div_index'],\n",
    "                'span_index': item['span_index'],\n",
    "                'original_text': text,\n",
    "                'numeric_value': num_value\n",
    "            })\n",
    "        except ValueError:\n",
    "            # 숫자가 아닌 경우 무시\n",
    "            continue\n",
    "    \n",
    "    return numeric_values"
   ]
  },
  {
   "cell_type": "code",
   "execution_count": 28,
   "id": "ff3db8ef",
   "metadata": {},
   "outputs": [],
   "source": [
    "def create_simple_numeric_dataframe(numeric_data):\n",
    "    if not numeric_data:\n",
    "        print(\"숫자 데이터가 없어서 DataFrame을 생성할 수 없습니다.\")\n",
    "        return pd.DataFrame()\n",
    "    \n",
    "    # 숫자 값만 추출해서 DataFrame 생성\n",
    "    numeric_values_only = [item['numeric_value'] for item in numeric_data]\n",
    "    \n",
    "    df = pd.DataFrame({\n",
    "        'value': numeric_values_only\n",
    "    })\n",
    "    \n",
    "    return df"
   ]
  },
  {
   "cell_type": "code",
   "execution_count": 32,
   "id": "4171b0d5",
   "metadata": {},
   "outputs": [
    {
     "data": {
      "application/vnd.microsoft.datawrangler.viewer.v0+json": {
       "columns": [
        {
         "name": "index",
         "rawType": "int64",
         "type": "integer"
        },
        {
         "name": "총득점",
         "rawType": "float64",
         "type": "float"
        }
       ],
       "ref": "818caa8e-53ce-4329-bd2c-75fd4ae4a8d6",
       "rows": [
        [
         "0",
         "4.0"
        ]
       ],
       "shape": {
        "columns": 1,
        "rows": 1
       }
      },
      "text/html": [
       "<div>\n",
       "<style scoped>\n",
       "    .dataframe tbody tr th:only-of-type {\n",
       "        vertical-align: middle;\n",
       "    }\n",
       "\n",
       "    .dataframe tbody tr th {\n",
       "        vertical-align: top;\n",
       "    }\n",
       "\n",
       "    .dataframe thead th {\n",
       "        text-align: right;\n",
       "    }\n",
       "</style>\n",
       "<table border=\"1\" class=\"dataframe\">\n",
       "  <thead>\n",
       "    <tr style=\"text-align: right;\">\n",
       "      <th></th>\n",
       "      <th>총득점</th>\n",
       "    </tr>\n",
       "  </thead>\n",
       "  <tbody>\n",
       "    <tr>\n",
       "      <th>0</th>\n",
       "      <td>4.0</td>\n",
       "    </tr>\n",
       "  </tbody>\n",
       "</table>\n",
       "</div>"
      ],
      "text/plain": [
       "   총득점\n",
       "0  4.0"
      ]
     },
     "execution_count": 32,
     "metadata": {},
     "output_type": "execute_result"
    }
   ],
   "source": [
    "data = crawl_score_values()\n",
    "numbers = extract_numeric_values(data)\n",
    "\n",
    "\n",
    "score_df = pd.DataFrame({'총득점': [sum(item['numeric_value'] for item in numbers)]})\n",
    "score_df\n"
   ]
  },
  {
   "cell_type": "code",
   "execution_count": 33,
   "id": "1bc80f99",
   "metadata": {},
   "outputs": [],
   "source": [
    "def crawl_pitcher_values():\n",
    "  try:\n",
    "    response = requests.get(url, headers=headers)\n",
    "    response.raise_for_status()\n",
    "\n",
    "    soup = BeautifulSoup(response.content, 'html.parser')\n",
    "\n",
    "    # hometeam_player_name = soup.find_all('div', style=\"margin-top:.3rem;\").get_text(strip=True)\n",
    "    pitchers_name = [div.get_text(strip=True) for div in soup.find_all('div', style=\"margin-top:.3rem;\")]\n",
    "\n",
    "    return pitchers_name\n",
    "  \n",
    "  except Exception as e:\n",
    "    print(\"오류 발생\")\n",
    "    return []"
   ]
  },
  {
   "cell_type": "code",
   "execution_count": 36,
   "id": "bc930473",
   "metadata": {},
   "outputs": [
    {
     "data": {
      "text/plain": [
       "['후라도', '네일']"
      ]
     },
     "execution_count": 36,
     "metadata": {},
     "output_type": "execute_result"
    }
   ],
   "source": [
    "data2 = crawl_pitcher_values()\n",
    "\n",
    "data2"
   ]
  },
  {
   "cell_type": "code",
   "execution_count": 39,
   "id": "2fc4a07a",
   "metadata": {},
   "outputs": [],
   "source": [
    "pitcher_df = pd.DataFrame(data2, columns=['선수명'])\n",
    "pitcher_df = pitcher_df.transpose()"
   ]
  },
  {
   "cell_type": "code",
   "execution_count": 40,
   "id": "3b9dd9de",
   "metadata": {},
   "outputs": [
    {
     "data": {
      "application/vnd.microsoft.datawrangler.viewer.v0+json": {
       "columns": [
        {
         "name": "index",
         "rawType": "object",
         "type": "string"
        },
        {
         "name": "0",
         "rawType": "object",
         "type": "string"
        },
        {
         "name": "1",
         "rawType": "object",
         "type": "string"
        }
       ],
       "ref": "9936b9f9-ab7e-4cf1-ab55-55af7ebb80e0",
       "rows": [
        [
         "선수명",
         "후라도",
         "네일"
        ]
       ],
       "shape": {
        "columns": 2,
        "rows": 1
       }
      },
      "text/html": [
       "<div>\n",
       "<style scoped>\n",
       "    .dataframe tbody tr th:only-of-type {\n",
       "        vertical-align: middle;\n",
       "    }\n",
       "\n",
       "    .dataframe tbody tr th {\n",
       "        vertical-align: top;\n",
       "    }\n",
       "\n",
       "    .dataframe thead th {\n",
       "        text-align: right;\n",
       "    }\n",
       "</style>\n",
       "<table border=\"1\" class=\"dataframe\">\n",
       "  <thead>\n",
       "    <tr style=\"text-align: right;\">\n",
       "      <th></th>\n",
       "      <th>0</th>\n",
       "      <th>1</th>\n",
       "    </tr>\n",
       "  </thead>\n",
       "  <tbody>\n",
       "    <tr>\n",
       "      <th>선수명</th>\n",
       "      <td>후라도</td>\n",
       "      <td>네일</td>\n",
       "    </tr>\n",
       "  </tbody>\n",
       "</table>\n",
       "</div>"
      ],
      "text/plain": [
       "       0   1\n",
       "선수명  후라도  네일"
      ]
     },
     "execution_count": 40,
     "metadata": {},
     "output_type": "execute_result"
    }
   ],
   "source": [
    "pitcher_df"
   ]
  },
  {
   "cell_type": "code",
   "execution_count": null,
   "id": "252b77dd",
   "metadata": {},
   "outputs": [],
   "source": []
  }
 ],
 "metadata": {
  "kernelspec": {
   "display_name": "base",
   "language": "python",
   "name": "python3"
  },
  "language_info": {
   "codemirror_mode": {
    "name": "ipython",
    "version": 3
   },
   "file_extension": ".py",
   "mimetype": "text/x-python",
   "name": "python",
   "nbconvert_exporter": "python",
   "pygments_lexer": "ipython3",
   "version": "3.12.4"
  }
 },
 "nbformat": 4,
 "nbformat_minor": 5
}
