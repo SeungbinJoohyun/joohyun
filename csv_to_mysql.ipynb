{
 "cells": [
  {
   "cell_type": "code",
   "execution_count": 2,
   "id": "1f286e7f",
   "metadata": {},
   "outputs": [],
   "source": [
    "import pandas as pd\n",
    "from sqlalchemy import create_engine"
   ]
  },
  {
   "cell_type": "code",
   "execution_count": 3,
   "id": "79115cae",
   "metadata": {},
   "outputs": [],
   "source": [
    "# DB connection information\n",
    "user = 'joohyun'\n",
    "password = 'joohyun0805'\n",
    "host = '13.125.208.76'\n",
    "port = 3306\n",
    "database = 'kbo_preview_database'"
   ]
  },
  {
   "cell_type": "code",
   "execution_count": 4,
   "id": "2ac5c5fc",
   "metadata": {},
   "outputs": [],
   "source": [
    "preview_dataset_df = pd.read_csv('kbo_baseball_2025dataset.csv')\n",
    "pitcher_dataset_df = pd.read_csv('pitcher_no.csv')\n",
    "predict_dataset_df = pd.read_csv('predict_data.csv')"
   ]
  },
  {
   "cell_type": "code",
   "execution_count": 5,
   "id": "07d32e4b",
   "metadata": {},
   "outputs": [],
   "source": [
    "engine = create_engine(f\"mysql+pymysql://{user}:{password}@{host}:{port}/{database}\")"
   ]
  },
  {
   "cell_type": "code",
   "execution_count": 6,
   "id": "ca39c1a6",
   "metadata": {},
   "outputs": [
    {
     "data": {
      "text/plain": [
       "345"
      ]
     },
     "execution_count": 6,
     "metadata": {},
     "output_type": "execute_result"
    }
   ],
   "source": [
    "preview_dataset_df.to_sql(name=\"kbo_preview_data\", con=engine, if_exists='replace', index=False)"
   ]
  },
  {
   "cell_type": "code",
   "execution_count": 7,
   "id": "d07c907a",
   "metadata": {},
   "outputs": [
    {
     "data": {
      "text/plain": [
       "65"
      ]
     },
     "execution_count": 7,
     "metadata": {},
     "output_type": "execute_result"
    }
   ],
   "source": [
    "pitcher_dataset_df.to_sql(name=\"kbo_pitcher_data\", con=engine, if_exists='replace', index=False)"
   ]
  },
  {
   "cell_type": "code",
   "execution_count": null,
   "id": "f109b73d",
   "metadata": {},
   "outputs": [],
   "source": [
    "predict_dataset_df.to_sql(name=\"kbo_predict_data\", con=engine, if_exists='replace', index=False)"
   ]
  }
 ],
 "metadata": {
  "kernelspec": {
   "display_name": "base",
   "language": "python",
   "name": "python3"
  },
  "language_info": {
   "codemirror_mode": {
    "name": "ipython",
    "version": 3
   },
   "file_extension": ".py",
   "mimetype": "text/x-python",
   "name": "python",
   "nbconvert_exporter": "python",
   "pygments_lexer": "ipython3",
   "version": "3.12.4"
  }
 },
 "nbformat": 4,
 "nbformat_minor": 5
}
